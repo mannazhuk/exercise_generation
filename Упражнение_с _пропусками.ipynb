{
  "nbformat": 4,
  "nbformat_minor": 0,
  "metadata": {
    "colab": {
      "provenance": []
    },
    "kernelspec": {
      "name": "python3",
      "display_name": "Python 3"
    },
    "language_info": {
      "name": "python"
    }
  },
  "cells": [
    {
      "cell_type": "code",
      "source": [
        "!pip install pymystem3"
      ],
      "metadata": {
        "colab": {
          "base_uri": "https://localhost:8080/"
        },
        "id": "93ncfnDvjq6a",
        "outputId": "bddbae54-29ce-4c7b-e8be-0a4a1e8f35b6"
      },
      "execution_count": null,
      "outputs": [
        {
          "output_type": "stream",
          "name": "stdout",
          "text": [
            "Requirement already satisfied: pymystem3 in /usr/local/lib/python3.10/dist-packages (0.2.0)\n",
            "Requirement already satisfied: requests in /usr/local/lib/python3.10/dist-packages (from pymystem3) (2.31.0)\n",
            "Requirement already satisfied: charset-normalizer<4,>=2 in /usr/local/lib/python3.10/dist-packages (from requests->pymystem3) (3.3.2)\n",
            "Requirement already satisfied: idna<4,>=2.5 in /usr/local/lib/python3.10/dist-packages (from requests->pymystem3) (3.4)\n",
            "Requirement already satisfied: urllib3<3,>=1.21.1 in /usr/local/lib/python3.10/dist-packages (from requests->pymystem3) (2.0.7)\n",
            "Requirement already satisfied: certifi>=2017.4.17 in /usr/local/lib/python3.10/dist-packages (from requests->pymystem3) (2023.7.22)\n"
          ]
        }
      ]
    },
    {
      "cell_type": "code",
      "source": [
        "import numpy as np\n",
        "import pandas as pd\n",
        "from pymystem3 import Mystem\n",
        "import textwrap"
      ],
      "metadata": {
        "id": "8xcm1vU3YVmV"
      },
      "execution_count": null,
      "outputs": []
    },
    {
      "cell_type": "code",
      "source": [
        "texts = pd.read_csv('/content/final_gen_texts.csv')"
      ],
      "metadata": {
        "id": "5x_49ayOYRRW"
      },
      "execution_count": null,
      "outputs": []
    },
    {
      "cell_type": "code",
      "source": [
        "m = Mystem()\n",
        "def lemmatize_sentence(text):                # получаем леммы (начальные формы) слов\n",
        "    lemmas = m.lemmatize(text)\n",
        "    filtered_words = [word for word in lemmas if word.isalpha() or '-' in word]\n",
        "    return filtered_words\n",
        "\n",
        "def gaps(text, words):               # заменяем целевую лексику на пропуски\n",
        "  final = text.split(' ')\n",
        "  for ind, word in enumerate(lemmatize_sentence(text)):\n",
        "    if word in lemmatize_sentence(words):\n",
        "      if final[ind - 1] == '_________':\n",
        "        final[ind] = ''\n",
        "        continue\n",
        "      final[ind] = '_________'\n",
        "\n",
        "  return ' '.join(final)\n"
      ],
      "metadata": {
        "id": "Cgcqg4-hgVSj"
      },
      "execution_count": null,
      "outputs": []
    },
    {
      "cell_type": "markdown",
      "source": [
        "Получаем упражнение:"
      ],
      "metadata": {
        "id": "bva6w7y8IQUh"
      }
    },
    {
      "cell_type": "code",
      "source": [
        "w = ' '.join(eval(texts['words'][5]))\n",
        "l = ', '.join(eval(texts['words'][5]))\n",
        "t = (texts['generated_texts'][5])\n",
        "print('Заполните пропуски словами из списка в правильной форме:\\n')\n",
        "print(l, '\\n')\n",
        "\n",
        "gaps(t, w)\n"
      ],
      "metadata": {
        "colab": {
          "base_uri": "https://localhost:8080/",
          "height": 200
        },
        "id": "DE_SyGFrZMqP",
        "outputId": "c52924cf-f6f5-4722-e188-3e65ba10894e"
      },
      "execution_count": null,
      "outputs": [
        {
          "output_type": "stream",
          "name": "stdout",
          "text": [
            "Заполните пропуски словами из списка в правильной форме:\n",
            "\n",
            "пренебрежение, разрушение, проявление \n",
            "\n"
          ]
        },
        {
          "output_type": "execute_result",
          "data": {
            "text/plain": [
              "'_________ к окружающей среде привело к _________ старинного замка, который стоял на вершине холма уже несколько столетий. Но однажды, когда произошло сильное землетрясение, замок рухнул, и теперь на его месте стояла огромная куча камней и грязи. Некоторые местные жители считали, что это _________ судьбы, что замок должен был падать, чтобы дать место новым зданиям. Но большинство жителей были глубоко огорчены _________ этого исторического здания. Они начали собираться вместе, чтобы понять, что именно привело к _________ замка и как можно избежать подобных катастроф в будущем.'"
            ],
            "application/vnd.google.colaboratory.intrinsic+json": {
              "type": "string"
            }
          },
          "metadata": {},
          "execution_count": 146
        }
      ]
    },
    {
      "cell_type": "markdown",
      "source": [
        "Смотрим на исходный текст:"
      ],
      "metadata": {
        "id": "5IAbFCk8ITg9"
      }
    },
    {
      "cell_type": "code",
      "source": [
        "texts['generated_texts'][5]"
      ],
      "metadata": {
        "colab": {
          "base_uri": "https://localhost:8080/",
          "height": 127
        },
        "id": "Mu_uEnGZpwOd",
        "outputId": "e1757643-34e9-4e70-8389-11eff4b666b5"
      },
      "execution_count": null,
      "outputs": [
        {
          "output_type": "execute_result",
          "data": {
            "text/plain": [
              "'Пренебрежение к окружающей среде привело к разрушению старинного замка, который стоял на вершине холма уже несколько столетий. Но однажды, когда произошло сильное землетрясение, замок рухнул, и теперь на его месте стояла огромная куча камней и грязи. Некоторые местные жители считали, что это проявление судьбы, что замок должен был падать, чтобы дать место новым зданиям. Но большинство жителей были глубоко огорчены разрушением этого исторического здания. Они начали собираться вместе, чтобы понять, что именно привело к разрушению замка и как можно избежать подобных катастроф в будущем.'"
            ],
            "application/vnd.google.colaboratory.intrinsic+json": {
              "type": "string"
            }
          },
          "metadata": {},
          "execution_count": 147
        }
      ]
    }
  ]
}