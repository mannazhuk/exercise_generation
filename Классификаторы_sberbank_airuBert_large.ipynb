{
  "cells": [
    {
      "cell_type": "markdown",
      "source": [
        "# Загрузка датасета:"
      ],
      "metadata": {
        "id": "HW6w-BXBl3Jf"
      }
    },
    {
      "cell_type": "code",
      "execution_count": null,
      "metadata": {
        "id": "_Bs23hZVtvMH"
      },
      "outputs": [],
      "source": [
        "import numpy as np\n",
        "import pandas as pd\n",
        "import matplotlib.pyplot as plt"
      ]
    },
    {
      "cell_type": "code",
      "execution_count": null,
      "metadata": {
        "colab": {
          "base_uri": "https://localhost:8080/"
        },
        "id": "Cu37hv1huxmg",
        "outputId": "bdb40736-f2d6-4801-bfa8-382635b66329"
      },
      "outputs": [
        {
          "output_type": "stream",
          "name": "stdout",
          "text": [
            "Mounted at /content/drive\n"
          ]
        }
      ],
      "source": [
        "# from google.colab import drive\n",
        "# drive.mount('/content/drive')"
      ]
    },
    {
      "cell_type": "code",
      "execution_count": null,
      "metadata": {
        "colab": {
          "base_uri": "https://localhost:8080/",
          "height": 443
        },
        "id": "_6OpBjnvtm3e",
        "outputId": "2001b38b-aa42-4e5b-a73d-82a55e43411f"
      },
      "outputs": [
        {
          "output_type": "execute_result",
          "data": {
            "text/plain": [
              "      levels         0         1         2         3         4         5  \\\n",
              "0          1 -0.023434 -0.004745 -0.050740 -0.036257  0.000319 -0.007040   \n",
              "1          1 -0.020464 -0.022403 -0.040703 -0.026702 -0.022712 -0.034298   \n",
              "2          1  0.011707 -0.010058 -0.020822 -0.057053  0.032692 -0.039388   \n",
              "3          1 -0.004432 -0.033645  0.007470 -0.021631  0.029239 -0.015297   \n",
              "4          1 -0.004087 -0.024342 -0.055855 -0.066229  0.017144 -0.036348   \n",
              "...      ...       ...       ...       ...       ...       ...       ...   \n",
              "3511       6  0.022530 -0.033608  0.030361 -0.061688  0.020227 -0.006023   \n",
              "3512       6  0.013223 -0.031325  0.029213 -0.066998  0.024265 -0.001679   \n",
              "3513       6 -0.006019  0.002443 -0.015963 -0.028267  0.059663 -0.010130   \n",
              "3514       6 -0.005367 -0.005018  0.000795 -0.065704  0.059135 -0.016085   \n",
              "3515       6  0.010773  0.010808  0.015280 -0.038755  0.027053 -0.037558   \n",
              "\n",
              "             6         7         8  ...      1014      1015      1016  \\\n",
              "0    -0.006877 -0.005830 -0.024195  ... -0.029963 -0.041192 -0.003850   \n",
              "1    -0.022450  0.017301 -0.003692  ...  0.002250 -0.025777 -0.021737   \n",
              "2     0.024109  0.024320 -0.030061  ...  0.035996  0.009117 -0.035071   \n",
              "3     0.011262  0.034145 -0.029135  ...  0.008833 -0.002873 -0.001294   \n",
              "4    -0.016886  0.020701 -0.038454  ...  0.024126  0.055280 -0.015052   \n",
              "...        ...       ...       ...  ...       ...       ...       ...   \n",
              "3511  0.003235  0.036836  0.000677  ...  0.049271  0.047013 -0.006938   \n",
              "3512  0.005881  0.035386 -0.009159  ...  0.054537  0.052741 -0.012897   \n",
              "3513  0.014673  0.034071  0.007025  ...  0.039444  0.044291 -0.027741   \n",
              "3514  0.005180  0.031187 -0.050132  ...  0.066101  0.062821 -0.053901   \n",
              "3515  0.014854 -0.002872 -0.029222  ... -0.002470  0.064491 -0.034255   \n",
              "\n",
              "          1017      1018      1019      1020      1021      1022      1023  \n",
              "0     0.014002 -0.000568 -0.013752 -0.008779  0.036189 -0.008458  0.017353  \n",
              "1     0.009486  0.007064  0.015949 -0.029458  0.026953 -0.015617  0.010611  \n",
              "2    -0.007486 -0.016822 -0.002471 -0.020736  0.020405 -0.024730  0.012189  \n",
              "3    -0.037276 -0.003548 -0.013110  0.002321  0.044035 -0.044873  0.009015  \n",
              "4     0.018264  0.011429 -0.030786 -0.011467  0.005120 -0.034691  0.007593  \n",
              "...        ...       ...       ...       ...       ...       ...       ...  \n",
              "3511 -0.069982 -0.005208  0.017630  0.016547  0.031859 -0.025260  0.041535  \n",
              "3512 -0.053876  0.001653  0.015295  0.017729  0.038711 -0.027020  0.031819  \n",
              "3513  0.063970  0.068226  0.020817  0.011920  0.031040 -0.018214  0.007083  \n",
              "3514 -0.002443  0.058898 -0.009231  0.010657  0.048010 -0.023917  0.023588  \n",
              "3515 -0.009270  0.028619  0.014355 -0.020976  0.043055 -0.024702 -0.014653  \n",
              "\n",
              "[3516 rows x 1025 columns]"
            ],
            "text/html": [
              "\n",
              "  <div id=\"df-56de217e-4220-4903-85a9-5bf344f9d719\" class=\"colab-df-container\">\n",
              "    <div>\n",
              "<style scoped>\n",
              "    .dataframe tbody tr th:only-of-type {\n",
              "        vertical-align: middle;\n",
              "    }\n",
              "\n",
              "    .dataframe tbody tr th {\n",
              "        vertical-align: top;\n",
              "    }\n",
              "\n",
              "    .dataframe thead th {\n",
              "        text-align: right;\n",
              "    }\n",
              "</style>\n",
              "<table border=\"1\" class=\"dataframe\">\n",
              "  <thead>\n",
              "    <tr style=\"text-align: right;\">\n",
              "      <th></th>\n",
              "      <th>levels</th>\n",
              "      <th>0</th>\n",
              "      <th>1</th>\n",
              "      <th>2</th>\n",
              "      <th>3</th>\n",
              "      <th>4</th>\n",
              "      <th>5</th>\n",
              "      <th>6</th>\n",
              "      <th>7</th>\n",
              "      <th>8</th>\n",
              "      <th>...</th>\n",
              "      <th>1014</th>\n",
              "      <th>1015</th>\n",
              "      <th>1016</th>\n",
              "      <th>1017</th>\n",
              "      <th>1018</th>\n",
              "      <th>1019</th>\n",
              "      <th>1020</th>\n",
              "      <th>1021</th>\n",
              "      <th>1022</th>\n",
              "      <th>1023</th>\n",
              "    </tr>\n",
              "  </thead>\n",
              "  <tbody>\n",
              "    <tr>\n",
              "      <th>0</th>\n",
              "      <td>1</td>\n",
              "      <td>-0.023434</td>\n",
              "      <td>-0.004745</td>\n",
              "      <td>-0.050740</td>\n",
              "      <td>-0.036257</td>\n",
              "      <td>0.000319</td>\n",
              "      <td>-0.007040</td>\n",
              "      <td>-0.006877</td>\n",
              "      <td>-0.005830</td>\n",
              "      <td>-0.024195</td>\n",
              "      <td>...</td>\n",
              "      <td>-0.029963</td>\n",
              "      <td>-0.041192</td>\n",
              "      <td>-0.003850</td>\n",
              "      <td>0.014002</td>\n",
              "      <td>-0.000568</td>\n",
              "      <td>-0.013752</td>\n",
              "      <td>-0.008779</td>\n",
              "      <td>0.036189</td>\n",
              "      <td>-0.008458</td>\n",
              "      <td>0.017353</td>\n",
              "    </tr>\n",
              "    <tr>\n",
              "      <th>1</th>\n",
              "      <td>1</td>\n",
              "      <td>-0.020464</td>\n",
              "      <td>-0.022403</td>\n",
              "      <td>-0.040703</td>\n",
              "      <td>-0.026702</td>\n",
              "      <td>-0.022712</td>\n",
              "      <td>-0.034298</td>\n",
              "      <td>-0.022450</td>\n",
              "      <td>0.017301</td>\n",
              "      <td>-0.003692</td>\n",
              "      <td>...</td>\n",
              "      <td>0.002250</td>\n",
              "      <td>-0.025777</td>\n",
              "      <td>-0.021737</td>\n",
              "      <td>0.009486</td>\n",
              "      <td>0.007064</td>\n",
              "      <td>0.015949</td>\n",
              "      <td>-0.029458</td>\n",
              "      <td>0.026953</td>\n",
              "      <td>-0.015617</td>\n",
              "      <td>0.010611</td>\n",
              "    </tr>\n",
              "    <tr>\n",
              "      <th>2</th>\n",
              "      <td>1</td>\n",
              "      <td>0.011707</td>\n",
              "      <td>-0.010058</td>\n",
              "      <td>-0.020822</td>\n",
              "      <td>-0.057053</td>\n",
              "      <td>0.032692</td>\n",
              "      <td>-0.039388</td>\n",
              "      <td>0.024109</td>\n",
              "      <td>0.024320</td>\n",
              "      <td>-0.030061</td>\n",
              "      <td>...</td>\n",
              "      <td>0.035996</td>\n",
              "      <td>0.009117</td>\n",
              "      <td>-0.035071</td>\n",
              "      <td>-0.007486</td>\n",
              "      <td>-0.016822</td>\n",
              "      <td>-0.002471</td>\n",
              "      <td>-0.020736</td>\n",
              "      <td>0.020405</td>\n",
              "      <td>-0.024730</td>\n",
              "      <td>0.012189</td>\n",
              "    </tr>\n",
              "    <tr>\n",
              "      <th>3</th>\n",
              "      <td>1</td>\n",
              "      <td>-0.004432</td>\n",
              "      <td>-0.033645</td>\n",
              "      <td>0.007470</td>\n",
              "      <td>-0.021631</td>\n",
              "      <td>0.029239</td>\n",
              "      <td>-0.015297</td>\n",
              "      <td>0.011262</td>\n",
              "      <td>0.034145</td>\n",
              "      <td>-0.029135</td>\n",
              "      <td>...</td>\n",
              "      <td>0.008833</td>\n",
              "      <td>-0.002873</td>\n",
              "      <td>-0.001294</td>\n",
              "      <td>-0.037276</td>\n",
              "      <td>-0.003548</td>\n",
              "      <td>-0.013110</td>\n",
              "      <td>0.002321</td>\n",
              "      <td>0.044035</td>\n",
              "      <td>-0.044873</td>\n",
              "      <td>0.009015</td>\n",
              "    </tr>\n",
              "    <tr>\n",
              "      <th>4</th>\n",
              "      <td>1</td>\n",
              "      <td>-0.004087</td>\n",
              "      <td>-0.024342</td>\n",
              "      <td>-0.055855</td>\n",
              "      <td>-0.066229</td>\n",
              "      <td>0.017144</td>\n",
              "      <td>-0.036348</td>\n",
              "      <td>-0.016886</td>\n",
              "      <td>0.020701</td>\n",
              "      <td>-0.038454</td>\n",
              "      <td>...</td>\n",
              "      <td>0.024126</td>\n",
              "      <td>0.055280</td>\n",
              "      <td>-0.015052</td>\n",
              "      <td>0.018264</td>\n",
              "      <td>0.011429</td>\n",
              "      <td>-0.030786</td>\n",
              "      <td>-0.011467</td>\n",
              "      <td>0.005120</td>\n",
              "      <td>-0.034691</td>\n",
              "      <td>0.007593</td>\n",
              "    </tr>\n",
              "    <tr>\n",
              "      <th>...</th>\n",
              "      <td>...</td>\n",
              "      <td>...</td>\n",
              "      <td>...</td>\n",
              "      <td>...</td>\n",
              "      <td>...</td>\n",
              "      <td>...</td>\n",
              "      <td>...</td>\n",
              "      <td>...</td>\n",
              "      <td>...</td>\n",
              "      <td>...</td>\n",
              "      <td>...</td>\n",
              "      <td>...</td>\n",
              "      <td>...</td>\n",
              "      <td>...</td>\n",
              "      <td>...</td>\n",
              "      <td>...</td>\n",
              "      <td>...</td>\n",
              "      <td>...</td>\n",
              "      <td>...</td>\n",
              "      <td>...</td>\n",
              "      <td>...</td>\n",
              "    </tr>\n",
              "    <tr>\n",
              "      <th>3511</th>\n",
              "      <td>6</td>\n",
              "      <td>0.022530</td>\n",
              "      <td>-0.033608</td>\n",
              "      <td>0.030361</td>\n",
              "      <td>-0.061688</td>\n",
              "      <td>0.020227</td>\n",
              "      <td>-0.006023</td>\n",
              "      <td>0.003235</td>\n",
              "      <td>0.036836</td>\n",
              "      <td>0.000677</td>\n",
              "      <td>...</td>\n",
              "      <td>0.049271</td>\n",
              "      <td>0.047013</td>\n",
              "      <td>-0.006938</td>\n",
              "      <td>-0.069982</td>\n",
              "      <td>-0.005208</td>\n",
              "      <td>0.017630</td>\n",
              "      <td>0.016547</td>\n",
              "      <td>0.031859</td>\n",
              "      <td>-0.025260</td>\n",
              "      <td>0.041535</td>\n",
              "    </tr>\n",
              "    <tr>\n",
              "      <th>3512</th>\n",
              "      <td>6</td>\n",
              "      <td>0.013223</td>\n",
              "      <td>-0.031325</td>\n",
              "      <td>0.029213</td>\n",
              "      <td>-0.066998</td>\n",
              "      <td>0.024265</td>\n",
              "      <td>-0.001679</td>\n",
              "      <td>0.005881</td>\n",
              "      <td>0.035386</td>\n",
              "      <td>-0.009159</td>\n",
              "      <td>...</td>\n",
              "      <td>0.054537</td>\n",
              "      <td>0.052741</td>\n",
              "      <td>-0.012897</td>\n",
              "      <td>-0.053876</td>\n",
              "      <td>0.001653</td>\n",
              "      <td>0.015295</td>\n",
              "      <td>0.017729</td>\n",
              "      <td>0.038711</td>\n",
              "      <td>-0.027020</td>\n",
              "      <td>0.031819</td>\n",
              "    </tr>\n",
              "    <tr>\n",
              "      <th>3513</th>\n",
              "      <td>6</td>\n",
              "      <td>-0.006019</td>\n",
              "      <td>0.002443</td>\n",
              "      <td>-0.015963</td>\n",
              "      <td>-0.028267</td>\n",
              "      <td>0.059663</td>\n",
              "      <td>-0.010130</td>\n",
              "      <td>0.014673</td>\n",
              "      <td>0.034071</td>\n",
              "      <td>0.007025</td>\n",
              "      <td>...</td>\n",
              "      <td>0.039444</td>\n",
              "      <td>0.044291</td>\n",
              "      <td>-0.027741</td>\n",
              "      <td>0.063970</td>\n",
              "      <td>0.068226</td>\n",
              "      <td>0.020817</td>\n",
              "      <td>0.011920</td>\n",
              "      <td>0.031040</td>\n",
              "      <td>-0.018214</td>\n",
              "      <td>0.007083</td>\n",
              "    </tr>\n",
              "    <tr>\n",
              "      <th>3514</th>\n",
              "      <td>6</td>\n",
              "      <td>-0.005367</td>\n",
              "      <td>-0.005018</td>\n",
              "      <td>0.000795</td>\n",
              "      <td>-0.065704</td>\n",
              "      <td>0.059135</td>\n",
              "      <td>-0.016085</td>\n",
              "      <td>0.005180</td>\n",
              "      <td>0.031187</td>\n",
              "      <td>-0.050132</td>\n",
              "      <td>...</td>\n",
              "      <td>0.066101</td>\n",
              "      <td>0.062821</td>\n",
              "      <td>-0.053901</td>\n",
              "      <td>-0.002443</td>\n",
              "      <td>0.058898</td>\n",
              "      <td>-0.009231</td>\n",
              "      <td>0.010657</td>\n",
              "      <td>0.048010</td>\n",
              "      <td>-0.023917</td>\n",
              "      <td>0.023588</td>\n",
              "    </tr>\n",
              "    <tr>\n",
              "      <th>3515</th>\n",
              "      <td>6</td>\n",
              "      <td>0.010773</td>\n",
              "      <td>0.010808</td>\n",
              "      <td>0.015280</td>\n",
              "      <td>-0.038755</td>\n",
              "      <td>0.027053</td>\n",
              "      <td>-0.037558</td>\n",
              "      <td>0.014854</td>\n",
              "      <td>-0.002872</td>\n",
              "      <td>-0.029222</td>\n",
              "      <td>...</td>\n",
              "      <td>-0.002470</td>\n",
              "      <td>0.064491</td>\n",
              "      <td>-0.034255</td>\n",
              "      <td>-0.009270</td>\n",
              "      <td>0.028619</td>\n",
              "      <td>0.014355</td>\n",
              "      <td>-0.020976</td>\n",
              "      <td>0.043055</td>\n",
              "      <td>-0.024702</td>\n",
              "      <td>-0.014653</td>\n",
              "    </tr>\n",
              "  </tbody>\n",
              "</table>\n",
              "<p>3516 rows × 1025 columns</p>\n",
              "</div>\n",
              "    <div class=\"colab-df-buttons\">\n",
              "\n",
              "  <div class=\"colab-df-container\">\n",
              "    <button class=\"colab-df-convert\" onclick=\"convertToInteractive('df-56de217e-4220-4903-85a9-5bf344f9d719')\"\n",
              "            title=\"Convert this dataframe to an interactive table.\"\n",
              "            style=\"display:none;\">\n",
              "\n",
              "  <svg xmlns=\"http://www.w3.org/2000/svg\" height=\"24px\" viewBox=\"0 -960 960 960\">\n",
              "    <path d=\"M120-120v-720h720v720H120Zm60-500h600v-160H180v160Zm220 220h160v-160H400v160Zm0 220h160v-160H400v160ZM180-400h160v-160H180v160Zm440 0h160v-160H620v160ZM180-180h160v-160H180v160Zm440 0h160v-160H620v160Z\"/>\n",
              "  </svg>\n",
              "    </button>\n",
              "\n",
              "  <style>\n",
              "    .colab-df-container {\n",
              "      display:flex;\n",
              "      gap: 12px;\n",
              "    }\n",
              "\n",
              "    .colab-df-convert {\n",
              "      background-color: #E8F0FE;\n",
              "      border: none;\n",
              "      border-radius: 50%;\n",
              "      cursor: pointer;\n",
              "      display: none;\n",
              "      fill: #1967D2;\n",
              "      height: 32px;\n",
              "      padding: 0 0 0 0;\n",
              "      width: 32px;\n",
              "    }\n",
              "\n",
              "    .colab-df-convert:hover {\n",
              "      background-color: #E2EBFA;\n",
              "      box-shadow: 0px 1px 2px rgba(60, 64, 67, 0.3), 0px 1px 3px 1px rgba(60, 64, 67, 0.15);\n",
              "      fill: #174EA6;\n",
              "    }\n",
              "\n",
              "    .colab-df-buttons div {\n",
              "      margin-bottom: 4px;\n",
              "    }\n",
              "\n",
              "    [theme=dark] .colab-df-convert {\n",
              "      background-color: #3B4455;\n",
              "      fill: #D2E3FC;\n",
              "    }\n",
              "\n",
              "    [theme=dark] .colab-df-convert:hover {\n",
              "      background-color: #434B5C;\n",
              "      box-shadow: 0px 1px 3px 1px rgba(0, 0, 0, 0.15);\n",
              "      filter: drop-shadow(0px 1px 2px rgba(0, 0, 0, 0.3));\n",
              "      fill: #FFFFFF;\n",
              "    }\n",
              "  </style>\n",
              "\n",
              "    <script>\n",
              "      const buttonEl =\n",
              "        document.querySelector('#df-56de217e-4220-4903-85a9-5bf344f9d719 button.colab-df-convert');\n",
              "      buttonEl.style.display =\n",
              "        google.colab.kernel.accessAllowed ? 'block' : 'none';\n",
              "\n",
              "      async function convertToInteractive(key) {\n",
              "        const element = document.querySelector('#df-56de217e-4220-4903-85a9-5bf344f9d719');\n",
              "        const dataTable =\n",
              "          await google.colab.kernel.invokeFunction('convertToInteractive',\n",
              "                                                    [key], {});\n",
              "        if (!dataTable) return;\n",
              "\n",
              "        const docLinkHtml = 'Like what you see? Visit the ' +\n",
              "          '<a target=\"_blank\" href=https://colab.research.google.com/notebooks/data_table.ipynb>data table notebook</a>'\n",
              "          + ' to learn more about interactive tables.';\n",
              "        element.innerHTML = '';\n",
              "        dataTable['output_type'] = 'display_data';\n",
              "        await google.colab.output.renderOutput(dataTable, element);\n",
              "        const docLink = document.createElement('div');\n",
              "        docLink.innerHTML = docLinkHtml;\n",
              "        element.appendChild(docLink);\n",
              "      }\n",
              "    </script>\n",
              "  </div>\n",
              "\n",
              "\n",
              "<div id=\"df-e535ca21-66d2-4333-89d1-18bbd58b8548\">\n",
              "  <button class=\"colab-df-quickchart\" onclick=\"quickchart('df-e535ca21-66d2-4333-89d1-18bbd58b8548')\"\n",
              "            title=\"Suggest charts\"\n",
              "            style=\"display:none;\">\n",
              "\n",
              "<svg xmlns=\"http://www.w3.org/2000/svg\" height=\"24px\"viewBox=\"0 0 24 24\"\n",
              "     width=\"24px\">\n",
              "    <g>\n",
              "        <path d=\"M19 3H5c-1.1 0-2 .9-2 2v14c0 1.1.9 2 2 2h14c1.1 0 2-.9 2-2V5c0-1.1-.9-2-2-2zM9 17H7v-7h2v7zm4 0h-2V7h2v10zm4 0h-2v-4h2v4z\"/>\n",
              "    </g>\n",
              "</svg>\n",
              "  </button>\n",
              "\n",
              "<style>\n",
              "  .colab-df-quickchart {\n",
              "      --bg-color: #E8F0FE;\n",
              "      --fill-color: #1967D2;\n",
              "      --hover-bg-color: #E2EBFA;\n",
              "      --hover-fill-color: #174EA6;\n",
              "      --disabled-fill-color: #AAA;\n",
              "      --disabled-bg-color: #DDD;\n",
              "  }\n",
              "\n",
              "  [theme=dark] .colab-df-quickchart {\n",
              "      --bg-color: #3B4455;\n",
              "      --fill-color: #D2E3FC;\n",
              "      --hover-bg-color: #434B5C;\n",
              "      --hover-fill-color: #FFFFFF;\n",
              "      --disabled-bg-color: #3B4455;\n",
              "      --disabled-fill-color: #666;\n",
              "  }\n",
              "\n",
              "  .colab-df-quickchart {\n",
              "    background-color: var(--bg-color);\n",
              "    border: none;\n",
              "    border-radius: 50%;\n",
              "    cursor: pointer;\n",
              "    display: none;\n",
              "    fill: var(--fill-color);\n",
              "    height: 32px;\n",
              "    padding: 0;\n",
              "    width: 32px;\n",
              "  }\n",
              "\n",
              "  .colab-df-quickchart:hover {\n",
              "    background-color: var(--hover-bg-color);\n",
              "    box-shadow: 0 1px 2px rgba(60, 64, 67, 0.3), 0 1px 3px 1px rgba(60, 64, 67, 0.15);\n",
              "    fill: var(--button-hover-fill-color);\n",
              "  }\n",
              "\n",
              "  .colab-df-quickchart-complete:disabled,\n",
              "  .colab-df-quickchart-complete:disabled:hover {\n",
              "    background-color: var(--disabled-bg-color);\n",
              "    fill: var(--disabled-fill-color);\n",
              "    box-shadow: none;\n",
              "  }\n",
              "\n",
              "  .colab-df-spinner {\n",
              "    border: 2px solid var(--fill-color);\n",
              "    border-color: transparent;\n",
              "    border-bottom-color: var(--fill-color);\n",
              "    animation:\n",
              "      spin 1s steps(1) infinite;\n",
              "  }\n",
              "\n",
              "  @keyframes spin {\n",
              "    0% {\n",
              "      border-color: transparent;\n",
              "      border-bottom-color: var(--fill-color);\n",
              "      border-left-color: var(--fill-color);\n",
              "    }\n",
              "    20% {\n",
              "      border-color: transparent;\n",
              "      border-left-color: var(--fill-color);\n",
              "      border-top-color: var(--fill-color);\n",
              "    }\n",
              "    30% {\n",
              "      border-color: transparent;\n",
              "      border-left-color: var(--fill-color);\n",
              "      border-top-color: var(--fill-color);\n",
              "      border-right-color: var(--fill-color);\n",
              "    }\n",
              "    40% {\n",
              "      border-color: transparent;\n",
              "      border-right-color: var(--fill-color);\n",
              "      border-top-color: var(--fill-color);\n",
              "    }\n",
              "    60% {\n",
              "      border-color: transparent;\n",
              "      border-right-color: var(--fill-color);\n",
              "    }\n",
              "    80% {\n",
              "      border-color: transparent;\n",
              "      border-right-color: var(--fill-color);\n",
              "      border-bottom-color: var(--fill-color);\n",
              "    }\n",
              "    90% {\n",
              "      border-color: transparent;\n",
              "      border-bottom-color: var(--fill-color);\n",
              "    }\n",
              "  }\n",
              "</style>\n",
              "\n",
              "  <script>\n",
              "    async function quickchart(key) {\n",
              "      const quickchartButtonEl =\n",
              "        document.querySelector('#' + key + ' button');\n",
              "      quickchartButtonEl.disabled = true;  // To prevent multiple clicks.\n",
              "      quickchartButtonEl.classList.add('colab-df-spinner');\n",
              "      try {\n",
              "        const charts = await google.colab.kernel.invokeFunction(\n",
              "            'suggestCharts', [key], {});\n",
              "      } catch (error) {\n",
              "        console.error('Error during call to suggestCharts:', error);\n",
              "      }\n",
              "      quickchartButtonEl.classList.remove('colab-df-spinner');\n",
              "      quickchartButtonEl.classList.add('colab-df-quickchart-complete');\n",
              "    }\n",
              "    (() => {\n",
              "      let quickchartButtonEl =\n",
              "        document.querySelector('#df-e535ca21-66d2-4333-89d1-18bbd58b8548 button');\n",
              "      quickchartButtonEl.style.display =\n",
              "        google.colab.kernel.accessAllowed ? 'block' : 'none';\n",
              "    })();\n",
              "  </script>\n",
              "</div>\n",
              "    </div>\n",
              "  </div>\n"
            ]
          },
          "metadata": {},
          "execution_count": 6
        }
      ],
      "source": [
        "embeddings = pd.read_csv(\"/content/full_sberbank-airuBert-large.csv\")\n",
        "embeddings = embeddings.drop(columns = ['Unnamed: 0'])\n",
        "embeddings"
      ]
    },
    {
      "cell_type": "markdown",
      "source": [
        "Убеждаемся, что нет дисбаланса классов:"
      ],
      "metadata": {
        "id": "zCiAreIGl_y7"
      }
    },
    {
      "cell_type": "code",
      "execution_count": null,
      "metadata": {
        "colab": {
          "base_uri": "https://localhost:8080/",
          "height": 472
        },
        "id": "kv5oqvscyj4r",
        "outputId": "7477dd2e-65f1-4db3-8f93-dd66e878fee6"
      },
      "outputs": [
        {
          "output_type": "display_data",
          "data": {
            "text/plain": [
              "<Figure size 640x480 with 1 Axes>"
            ],
            "image/png": "[encoded data removed]"
          },
          "metadata": {}
        }
      ],
      "source": [
        "counts = embeddings['levels'].value_counts()\n",
        "\n",
        "plt.bar(counts.index, counts.values)\n",
        "plt.title('Соотношение классов')\n",
        "plt.xlabel('Уровень владения А1-С2')\n",
        "plt.ylabel('Количество')\n",
        "plt.show()"
      ]
    },
    {
      "cell_type": "markdown",
      "source": [
        "Необходимые импорты:"
      ],
      "metadata": {
        "id": "ENW1ny2qmG5M"
      }
    },
    {
      "cell_type": "code",
      "execution_count": null,
      "metadata": {
        "id": "yRbELqEuwXaM"
      },
      "outputs": [],
      "source": [
        "from sklearn.model_selection import train_test_split\n",
        "from sklearn.ensemble import RandomForestClassifier\n",
        "from sklearn.linear_model import LogisticRegression\n",
        "from sklearn.tree import DecisionTreeClassifier\n",
        "from sklearn.neighbors import KNeighborsClassifier\n",
        "from sklearn.metrics import accuracy_score\n",
        "from sklearn.metrics import classification_report\n",
        "from sklearn.metrics import confusion_matrix, ConfusionMatrixDisplay"
      ]
    },
    {
      "cell_type": "code",
      "execution_count": null,
      "metadata": {
        "colab": {
          "base_uri": "https://localhost:8080/"
        },
        "id": "8ylWADDe1ozX",
        "outputId": "649e9bfc-a5ce-499d-9b06-1257ab451c44"
      },
      "outputs": [
        {
          "output_type": "stream",
          "name": "stdout",
          "text": [
            "Collecting catboost\n",
            "  Downloading catboost-1.2.2-cp310-cp310-manylinux2014_x86_64.whl (98.7 MB)\n",
            "\u001b[2K     \u001b[90m━━━━━━━━━━━━━━━━━━━━━━━━━━━━━━━━━━━━━━━━\u001b[0m \u001b[32m98.7/98.7 MB\u001b[0m \u001b[31m4.4 MB/s\u001b[0m eta \u001b[36m0:00:00\u001b[0m\n",
            "\u001b[?25hRequirement already satisfied: graphviz in /usr/local/lib/python3.10/dist-packages (from catboost) (0.20.1)\n",
            "Requirement already satisfied: matplotlib in /usr/local/lib/python3.10/dist-packages (from catboost) (3.7.1)\n",
            "Requirement already satisfied: numpy>=1.16.0 in /usr/local/lib/python3.10/dist-packages (from catboost) (1.23.5)\n",
            "Requirement already satisfied: pandas>=0.24 in /usr/local/lib/python3.10/dist-packages (from catboost) (1.5.3)\n",
            "Requirement already satisfied: scipy in /usr/local/lib/python3.10/dist-packages (from catboost) (1.11.3)\n",
            "Requirement already satisfied: plotly in /usr/local/lib/python3.10/dist-packages (from catboost) (5.15.0)\n",
            "Requirement already satisfied: six in /usr/local/lib/python3.10/dist-packages (from catboost) (1.16.0)\n",
            "Requirement already satisfied: python-dateutil>=2.8.1 in /usr/local/lib/python3.10/dist-packages (from pandas>=0.24->catboost) (2.8.2)\n",
            "Requirement already satisfied: pytz>=2020.1 in /usr/local/lib/python3.10/dist-packages (from pandas>=0.24->catboost) (2023.3.post1)\n",
            "Requirement already satisfied: contourpy>=1.0.1 in /usr/local/lib/python3.10/dist-packages (from matplotlib->catboost) (1.2.0)\n",
            "Requirement already satisfied: cycler>=0.10 in /usr/local/lib/python3.10/dist-packages (from matplotlib->catboost) (0.12.1)\n",
            "Requirement already satisfied: fonttools>=4.22.0 in /usr/local/lib/python3.10/dist-packages (from matplotlib->catboost) (4.44.0)\n",
            "Requirement already satisfied: kiwisolver>=1.0.1 in /usr/local/lib/python3.10/dist-packages (from matplotlib->catboost) (1.4.5)\n",
            "Requirement already satisfied: packaging>=20.0 in /usr/local/lib/python3.10/dist-packages (from matplotlib->catboost) (23.2)\n",
            "Requirement already satisfied: pillow>=6.2.0 in /usr/local/lib/python3.10/dist-packages (from matplotlib->catboost) (9.4.0)\n",
            "Requirement already satisfied: pyparsing>=2.3.1 in /usr/local/lib/python3.10/dist-packages (from matplotlib->catboost) (3.1.1)\n",
            "Requirement already satisfied: tenacity>=6.2.0 in /usr/local/lib/python3.10/dist-packages (from plotly->catboost) (8.2.3)\n",
            "Installing collected packages: catboost\n",
            "Successfully installed catboost-1.2.2\n"
          ]
        }
      ],
      "source": [
        "!pip install catboost"
      ]
    },
    {
      "cell_type": "code",
      "execution_count": null,
      "metadata": {
        "colab": {
          "base_uri": "https://localhost:8080/"
        },
        "id": "y9i49Xmd4y7C",
        "outputId": "d77c7441-9254-47af-ef0c-8b7f2484fdc0"
      },
      "outputs": [
        {
          "output_type": "stream",
          "name": "stdout",
          "text": [
            "Requirement already satisfied: xgboost in /usr/local/lib/python3.10/dist-packages (2.0.1)\n",
            "Requirement already satisfied: numpy in /usr/local/lib/python3.10/dist-packages (from xgboost) (1.23.5)\n",
            "Requirement already satisfied: scipy in /usr/local/lib/python3.10/dist-packages (from xgboost) (1.11.3)\n"
          ]
        }
      ],
      "source": [
        "!pip install xgboost"
      ]
    },
    {
      "cell_type": "code",
      "execution_count": null,
      "metadata": {
        "id": "f9D1-R2N1uC0"
      },
      "outputs": [],
      "source": [
        "from catboost import CatBoostClassifier"
      ]
    },
    {
      "cell_type": "code",
      "execution_count": null,
      "metadata": {
        "id": "6gAHlmAK5Dpj"
      },
      "outputs": [],
      "source": [
        "from xgboost import XGBClassifier\n",
        "from sklearn.preprocessing import LabelEncoder"
      ]
    },
    {
      "cell_type": "markdown",
      "source": [
        "Делим датасет на обучающую и тестовую выборки:"
      ],
      "metadata": {
        "id": "8XUPqsuzmUwg"
      }
    },
    {
      "cell_type": "code",
      "execution_count": null,
      "metadata": {
        "id": "Q4cw0tAOwiBM"
      },
      "outputs": [],
      "source": [
        "x_train, x_test, y_train, y_test = train_test_split(embeddings.iloc[:, 1:], embeddings['levels'],\n",
        "                                                    train_size=0.8,\n",
        "                                                    random_state=42)"
      ]
    },
    {
      "cell_type": "markdown",
      "metadata": {
        "id": "Ge6wOT3M6MHz"
      },
      "source": [
        "# RandomForestClassifier"
      ]
    },
    {
      "cell_type": "code",
      "execution_count": null,
      "metadata": {
        "colab": {
          "base_uri": "https://localhost:8080/",
          "height": 686
        },
        "id": "4SVIZ274JvpE",
        "outputId": "dfc07ca6-3f7e-44f8-e08f-58b421ded873"
      },
      "outputs": [
        {
          "output_type": "stream",
          "name": "stdout",
          "text": [
            "              precision    recall  f1-score   support\n",
            "\n",
            "          A1       0.77      0.82      0.79       109\n",
            "          A2       0.70      0.72      0.71       125\n",
            "          B1       0.56      0.44      0.49       118\n",
            "          B2       0.85      0.88      0.86       122\n",
            "          C1       0.76      0.84      0.80       119\n",
            "          C2       1.00      0.99      1.00       111\n",
            "\n",
            "    accuracy                           0.78       704\n",
            "   macro avg       0.77      0.78      0.78       704\n",
            "weighted avg       0.77      0.78      0.77       704\n",
            "\n"
          ]
        },
        {
          "output_type": "display_data",
          "data": {
            "text/plain": [
              "<Figure size 640x480 with 2 Axes>"
            ],
            "image/png": "[encoded data removed]"
          },
          "metadata": {}
        }
      ],
      "source": [
        "rf = RandomForestClassifier(random_state=42)\n",
        "rf.fit(x_train, y_train)\n",
        "y_pred_rf = rf.predict(x_test)\n",
        "target_names = ['A1', 'A2', 'B1', 'B2', 'C1', 'C2']\n",
        "print(classification_report(y_test, y_pred_rf, target_names=target_names))\n",
        "cm = confusion_matrix(y_test, y_pred_rf, labels=[1, 2, 3, 4, 5, 6])\n",
        "disp = ConfusionMatrixDisplay(confusion_matrix=cm, display_labels=['A1', 'A2', 'B1', 'B2', 'C1', 'C2'])\n",
        "disp.plot()\n",
        "plt.show()"
      ]
    },
    {
      "cell_type": "markdown",
      "metadata": {
        "id": "RrCAD10m6SuY"
      },
      "source": [
        "# LogisticRegression"
      ]
    },
    {
      "cell_type": "code",
      "execution_count": null,
      "metadata": {
        "colab": {
          "base_uri": "https://localhost:8080/",
          "height": 686
        },
        "id": "NoG0EThNSo2f",
        "outputId": "8f52b4ac-4ca5-45ee-f8ea-4bda1bf94834"
      },
      "outputs": [
        {
          "output_type": "stream",
          "name": "stdout",
          "text": [
            "              precision    recall  f1-score   support\n",
            "\n",
            "          A1       0.71      0.78      0.74       109\n",
            "          A2       0.64      0.62      0.63       125\n",
            "          B1       0.59      0.49      0.53       118\n",
            "          B2       0.67      0.68      0.67       122\n",
            "          C1       0.67      0.70      0.69       119\n",
            "          C2       0.89      0.95      0.92       111\n",
            "\n",
            "    accuracy                           0.70       704\n",
            "   macro avg       0.69      0.70      0.70       704\n",
            "weighted avg       0.69      0.70      0.69       704\n",
            "\n"
          ]
        },
        {
          "output_type": "display_data",
          "data": {
            "text/plain": [
              "<Figure size 640x480 with 2 Axes>"
            ],
            "image/png": "[encoded data removed]"
          },
          "metadata": {}
        }
      ],
      "source": [
        "lg = LogisticRegression(random_state=42)\n",
        "lg.fit(x_train, y_train)\n",
        "y_pred_lg = lg.predict(x_test)\n",
        "\n",
        "#target_names = ['A1', 'A2', 'B1', 'B2', 'C1']\n",
        "print(classification_report(y_test, y_pred_lg, target_names=target_names))\n",
        "cm = confusion_matrix(y_test, y_pred_lg, labels=[1, 2, 3, 4, 5, 6])\n",
        "disp = ConfusionMatrixDisplay(confusion_matrix=cm, display_labels=['A1', 'A2', 'B1', 'B2', 'C1', 'C2'])\n",
        "disp.plot()\n",
        "plt.show()"
      ]
    },
    {
      "cell_type": "markdown",
      "metadata": {
        "id": "53BAe2ml6VoH"
      },
      "source": [
        "# DecisionTreeClassifier"
      ]
    },
    {
      "cell_type": "code",
      "execution_count": null,
      "metadata": {
        "colab": {
          "base_uri": "https://localhost:8080/",
          "height": 686
        },
        "id": "monTIx-QSdok",
        "outputId": "8265c4b5-30a3-4b8f-8cb8-709f6fc6fa27"
      },
      "outputs": [
        {
          "output_type": "stream",
          "name": "stdout",
          "text": [
            "              precision    recall  f1-score   support\n",
            "\n",
            "          A1       0.59      0.55      0.57       109\n",
            "          A2       0.48      0.50      0.49       125\n",
            "          B1       0.35      0.36      0.35       118\n",
            "          B2       0.58      0.57      0.57       122\n",
            "          C1       0.54      0.51      0.53       119\n",
            "          C2       0.87      0.95      0.91       111\n",
            "\n",
            "    accuracy                           0.57       704\n",
            "   macro avg       0.57      0.57      0.57       704\n",
            "weighted avg       0.56      0.57      0.57       704\n",
            "\n"
          ]
        },
        {
          "output_type": "display_data",
          "data": {
            "text/plain": [
              "<Figure size 640x480 with 2 Axes>"
            ],
            "image/png": "[encoded data removed]"
          },
          "metadata": {}
        }
      ],
      "source": [
        "dt = DecisionTreeClassifier(random_state=42)\n",
        "dt.fit(x_train, y_train)\n",
        "y_pred_dt = dt.predict(x_test)\n",
        "\n",
        "#target_names = ['A1', 'A2', 'B1', 'B2', 'C1', 'C2']\n",
        "print(classification_report(y_test, y_pred_dt, target_names=target_names))\n",
        "cm = confusion_matrix(y_test, y_pred_dt, labels=[1, 2, 3, 4, 5, 6])\n",
        "disp = ConfusionMatrixDisplay(confusion_matrix=cm, display_labels=['A1', 'A2', 'B1', 'B2', 'C1', 'C2'])\n",
        "disp.plot()\n",
        "plt.show()"
      ]
    },
    {
      "cell_type": "markdown",
      "metadata": {
        "id": "qtEmO8yR6YfK"
      },
      "source": [
        "# KNeighborsClassifier"
      ]
    },
    {
      "cell_type": "code",
      "execution_count": null,
      "metadata": {
        "colab": {
          "base_uri": "https://localhost:8080/",
          "height": 686
        },
        "id": "bBpsCnz_SUp-",
        "outputId": "83be4a56-d876-4e3a-be02-82fc5ab697db"
      },
      "outputs": [
        {
          "output_type": "stream",
          "name": "stdout",
          "text": [
            "              precision    recall  f1-score   support\n",
            "\n",
            "          A1       0.72      0.85      0.78       109\n",
            "          A2       0.65      0.79      0.71       125\n",
            "          B1       0.71      0.10      0.18       118\n",
            "          B2       0.73      0.92      0.81       122\n",
            "          C1       0.83      0.81      0.82       119\n",
            "          C2       0.81      1.00      0.90       111\n",
            "\n",
            "    accuracy                           0.74       704\n",
            "   macro avg       0.74      0.75      0.70       704\n",
            "weighted avg       0.74      0.74      0.70       704\n",
            "\n"
          ]
        },
        {
          "output_type": "display_data",
          "data": {
            "text/plain": [
              "<Figure size 640x480 with 2 Axes>"
            ],
            "image/png": "[encoded data removed]"
          },
          "metadata": {}
        }
      ],
      "source": [
        "knn = KNeighborsClassifier(weights='distance')\n",
        "knn.fit(x_train, y_train)\n",
        "y_pred_knn = knn.predict(x_test)\n",
        "\n",
        "#target_names = ['A1', 'A2', 'B1', 'B2', 'C1']\n",
        "print(classification_report(y_test, y_pred_knn, target_names=target_names))\n",
        "cm = confusion_matrix(y_test, y_pred_knn, labels=[1, 2, 3, 4, 5, 6])\n",
        "disp = ConfusionMatrixDisplay(confusion_matrix=cm, display_labels=['A1', 'A2', 'B1', 'B2', 'C1', 'C2'])\n",
        "disp.plot()\n",
        "plt.show()"
      ]
    },
    {
      "cell_type": "markdown",
      "metadata": {
        "id": "bHl_gGPA6cB-"
      },
      "source": [
        "# CatBoostClassifier"
      ]
    },
    {
      "cell_type": "code",
      "execution_count": null,
      "metadata": {
        "id": "csxGg2QN0oAE"
      },
      "outputs": [],
      "source": [
        "from sklearn.utils.class_weight import compute_class_weight  # балансировка классов, на случай, если подавать несбаланстрованный датасет\n",
        "classes = np.unique(y_train)\n",
        "weights = compute_class_weight(class_weight='balanced', classes=classes, y=y_train)\n",
        "class_weights = dict(zip(classes, weights))"
      ]
    },
    {
      "cell_type": "code",
      "execution_count": null,
      "metadata": {
        "colab": {
          "base_uri": "https://localhost:8080/",
          "height": 686
        },
        "id": "DZLbRWghSD-y",
        "outputId": "850fe9fb-3a6e-4ade-d193-d2b8e1677882"
      },
      "outputs": [
        {
          "output_type": "stream",
          "name": "stdout",
          "text": [
            "              precision    recall  f1-score   support\n",
            "\n",
            "          A1       0.81      0.81      0.81       109\n",
            "          A2       0.74      0.74      0.74       125\n",
            "          B1       0.64      0.61      0.63       118\n",
            "          B2       0.85      0.88      0.86       122\n",
            "          C1       0.83      0.85      0.84       119\n",
            "          C2       1.00      1.00      1.00       111\n",
            "\n",
            "    accuracy                           0.81       704\n",
            "   macro avg       0.81      0.81      0.81       704\n",
            "weighted avg       0.81      0.81      0.81       704\n",
            "\n"
          ]
        },
        {
          "output_type": "display_data",
          "data": {
            "text/plain": [
              "<Figure size 640x480 with 2 Axes>"
            ],
            "image/png": "[encoded data removed]"
          },
          "metadata": {}
        }
      ],
      "source": [
        "cb = CatBoostClassifier(random_state=42, class_weights=class_weights, verbose=False)\n",
        "cb.fit(x_train, y_train)\n",
        "y_pred_cb = cb.predict(x_test)\n",
        "\n",
        "#target_names = ['A1', 'A2', 'B1', 'B2', 'C1']\n",
        "print(classification_report(y_test, y_pred_cb, target_names=target_names))\n",
        "cm = confusion_matrix(y_test, y_pred_cb, labels=[1, 2, 3, 4, 5, 6])\n",
        "disp = ConfusionMatrixDisplay(confusion_matrix=cm, display_labels=['A1', 'A2', 'B1', 'B2', 'C1', 'C2'])\n",
        "disp.plot()\n",
        "plt.show()"
      ]
    },
    {
      "cell_type": "markdown",
      "metadata": {
        "id": "bSOuDbEu6gT6"
      },
      "source": [
        "# XGBClassifier"
      ]
    },
    {
      "cell_type": "code",
      "execution_count": null,
      "metadata": {
        "id": "DpeVcOau5yKw"
      },
      "outputs": [],
      "source": [
        "le = LabelEncoder()                        # перевод меток классов из 1-6 в 0-5. Нужны для XGBClassifier и для нейронной сети\n",
        "y_train_xb = le.fit_transform(y_train)\n",
        "y_test_xb = le.fit_transform(y_test)"
      ]
    },
    {
      "cell_type": "code",
      "execution_count": null,
      "metadata": {
        "colab": {
          "base_uri": "https://localhost:8080/"
        },
        "id": "ICfBPNhj-bnx",
        "outputId": "9d45a6cb-f91b-4fb2-f288-e5c87936e317"
      },
      "outputs": [
        {
          "output_type": "execute_result",
          "data": {
            "text/plain": [
              "array([1, 0, 3, 3, 0, 2, 2, 1, 2, 0, 1, 2, 5, 2, 3, 1, 2, 4, 4, 1, 4, 2,\n",
              "       1, 1, 3, 5, 1, 0, 2, 4, 4, 1, 3, 0, 1, 5, 1, 1, 4, 2, 1, 2, 2, 5,\n",
              "       3, 1, 3, 1, 2, 0, 2, 2, 0, 0, 5, 5, 0, 5, 0, 4, 5, 0, 5, 0, 4, 2,\n",
              "       0, 3, 3, 0, 3, 1, 2, 0, 0, 2, 4, 3, 3, 5, 3, 1, 4, 5, 4, 5, 5, 5,\n",
              "       3, 2, 4, 1, 1, 0, 4, 5, 1, 2, 2, 1, 3, 5, 2, 2, 4, 2, 1, 0, 4, 4,\n",
              "       1, 5, 1, 2, 2, 4, 5, 0, 1, 0, 1, 4, 2, 4, 4, 5, 0, 2, 0, 0, 3, 4,\n",
              "       3, 0, 4, 5, 0, 2, 2, 0, 3, 4, 3, 0, 5, 5, 3, 0, 3, 3, 0, 3, 2, 0,\n",
              "       4, 4, 2, 3, 2, 3, 3, 0, 3, 1, 0, 0, 1, 2, 5, 0, 3, 1, 4, 4, 1, 3,\n",
              "       4, 1, 3, 4, 3, 3, 1, 2, 5, 3, 5, 1, 0, 5, 1, 0, 1, 2, 2, 5, 0, 2,\n",
              "       4, 3, 3, 4, 3, 1, 5, 2, 0, 1, 3, 4, 1, 2, 3, 1, 5, 4, 4, 5, 1, 4,\n",
              "       2, 5, 3, 1, 3, 3, 5, 3, 5, 3, 4, 5, 2, 2, 5, 1, 0, 4, 1, 1, 2, 2,\n",
              "       3, 0, 4, 5, 2, 0, 5, 0, 0, 2, 2, 2, 5, 0, 5, 1, 0, 4, 5, 2, 3, 2,\n",
              "       4, 1, 5, 2, 4, 2, 1, 5, 2, 4, 4, 1, 2, 5, 0, 2, 2, 4, 1, 0, 2, 2,\n",
              "       1, 1, 2, 4, 1, 3, 2, 0, 0, 3, 5, 4, 0, 5, 0, 5, 4, 3, 5, 3, 5, 0,\n",
              "       1, 0, 3, 0, 2, 1, 4, 5, 4, 4, 3, 3, 3, 4, 4, 1, 0, 4, 1, 1, 4, 3,\n",
              "       1, 4, 5, 3, 4, 0, 3, 2, 3, 5, 5, 4, 2, 4, 5, 1, 1, 1, 0, 1, 4, 3,\n",
              "       2, 3, 1, 2, 5, 1, 5, 2, 5, 4, 4, 1, 1, 1, 5, 5, 5, 0, 4, 1, 0, 4,\n",
              "       5, 5, 0, 3, 1, 2, 3, 1, 2, 0, 5, 2, 3, 1, 4, 5, 5, 1, 3, 3, 2, 4,\n",
              "       5, 0, 2, 5, 4, 1, 0, 0, 3, 3, 2, 1, 0, 5, 2, 1, 5, 5, 2, 0, 4, 1,\n",
              "       1, 2, 1, 1, 1, 1, 0, 4, 4, 3, 1, 2, 4, 3, 3, 2, 4, 5, 5, 3, 2, 1,\n",
              "       0, 3, 0, 2, 1, 5, 3, 2, 2, 4, 2, 5, 1, 4, 1, 4, 3, 1, 2, 0, 3, 3,\n",
              "       5, 3, 4, 3, 3, 5, 4, 5, 1, 0, 1, 2, 0, 1, 0, 3, 4, 4, 3, 4, 2, 2,\n",
              "       2, 2, 2, 4, 5, 3, 2, 3, 5, 0, 5, 0, 1, 3, 3, 0, 3, 3, 5, 0, 2, 1,\n",
              "       4, 2, 5, 3, 4, 0, 3, 0, 4, 5, 4, 4, 3, 2, 3, 4, 5, 1, 1, 1, 2, 3,\n",
              "       2, 4, 5, 5, 3, 2, 2, 3, 0, 0, 3, 2, 4, 2, 0, 4, 1, 3, 3, 0, 3, 5,\n",
              "       0, 0, 1, 4, 0, 4, 3, 4, 2, 0, 1, 1, 0, 5, 0, 3, 4, 3, 2, 0, 4, 4,\n",
              "       2, 5, 1, 4, 5, 3, 2, 3, 4, 0, 2, 3, 5, 5, 5, 5, 3, 1, 5, 1, 4, 2,\n",
              "       2, 1, 0, 1, 3, 2, 1, 1, 5, 5, 1, 5, 4, 4, 0, 3, 1, 5, 4, 0, 4, 3,\n",
              "       5, 4, 1, 0, 5, 0, 1, 4, 0, 2, 1, 0, 1, 3, 0, 5, 5, 3, 5, 1, 1, 4,\n",
              "       5, 4, 4, 5, 5, 0, 4, 4, 3, 4, 0, 0, 2, 1, 3, 3, 1, 0, 2, 5, 4, 2,\n",
              "       2, 3, 1, 4, 1, 1, 4, 4, 0, 3, 3, 1, 0, 5, 4, 3, 4, 5, 2, 2, 1, 5,\n",
              "       0, 3, 3, 0, 1, 4, 2, 3, 3, 3, 4, 4, 2, 1, 3, 0, 5, 2, 1, 1, 2, 0])"
            ]
          },
          "metadata": {},
          "execution_count": 24
        }
      ],
      "source": [
        "y_test_xb"
      ]
    },
    {
      "cell_type": "code",
      "execution_count": null,
      "metadata": {
        "colab": {
          "base_uri": "https://localhost:8080/",
          "height": 686
        },
        "id": "YSW_KtLDR5JX",
        "outputId": "2d3957b7-82bc-4fae-c493-4a5085526da2"
      },
      "outputs": [
        {
          "output_type": "stream",
          "name": "stdout",
          "text": [
            "              precision    recall  f1-score   support\n",
            "\n",
            "          A1       0.78      0.84      0.81       109\n",
            "          A2       0.74      0.73      0.73       125\n",
            "          B1       0.69      0.55      0.61       118\n",
            "          B2       0.85      0.90      0.87       122\n",
            "          C1       0.80      0.87      0.83       119\n",
            "          C2       1.00      0.99      1.00       111\n",
            "\n",
            "    accuracy                           0.81       704\n",
            "   macro avg       0.81      0.81      0.81       704\n",
            "weighted avg       0.81      0.81      0.81       704\n",
            "\n"
          ]
        },
        {
          "output_type": "display_data",
          "data": {
            "text/plain": [
              "<Figure size 640x480 with 2 Axes>"
            ],
            "image/png": "[encoded data removed]"
          },
          "metadata": {}
        }
      ],
      "source": [
        "xb = XGBClassifier(random_state=42)\n",
        "xb.fit(x_train, y_train_xb)\n",
        "y_pred_xb = xb.predict(x_test)\n",
        "\n",
        "#target_names = ['A1', 'A2', 'B1', 'B2', 'C1']\n",
        "print(classification_report(y_test_xb, y_pred_xb, target_names=target_names))\n",
        "cm = confusion_matrix(y_test_xb, y_pred_xb, labels=[0, 1, 2, 3, 4, 5])\n",
        "disp = ConfusionMatrixDisplay(confusion_matrix=cm, display_labels=['A1', 'A2', 'B1', 'B2', 'C1', 'C2'])\n",
        "disp.plot()\n",
        "plt.show()"
      ]
    },
    {
      "cell_type": "markdown",
      "metadata": {
        "id": "BWFYKvKq9YCF"
      },
      "source": [
        "# Нейросеть"
      ]
    },
    {
      "cell_type": "code",
      "execution_count": null,
      "metadata": {
        "id": "VLoKQF6X9atq"
      },
      "outputs": [],
      "source": [
        "import torch\n",
        "import torch.nn as nn\n",
        "import torch.optim as optim"
      ]
    },
    {
      "cell_type": "code",
      "execution_count": null,
      "metadata": {
        "id": "gFUumQ5O9dZS"
      },
      "outputs": [],
      "source": [
        "class NeuralNetwork(nn.Module):\n",
        "    def __init__(self, input_size, hidden_size, num_classes):\n",
        "        super(NeuralNetwork, self).__init__()\n",
        "        self.layer1 = nn.Linear(input_size, hidden_size)\n",
        "        self.relu = nn.ReLU()\n",
        "        self.layer2 = nn.Linear(hidden_size, hidden_size)\n",
        "        self.layer3 = nn.Linear(hidden_size, num_classes)\n",
        "\n",
        "    def forward(self, x):\n",
        "        out = self.layer1(x)\n",
        "        out = self.relu(out)\n",
        "        out = self.layer2(out)\n",
        "        out = self.relu(out)\n",
        "        out = self.layer3(out)\n",
        "        return out"
      ]
    },
    {
      "cell_type": "code",
      "execution_count": null,
      "metadata": {
        "id": "3_-MMsst9gfp"
      },
      "outputs": [],
      "source": [
        "# Параметры модели\n",
        "input_size = 1024  # Размерность эмбеддинга\n",
        "hidden_size = 50  # Количество нейронов в скрытом слое\n",
        "num_classes = 6   # Количество классов"
      ]
    },
    {
      "cell_type": "code",
      "execution_count": null,
      "metadata": {
        "id": "Q10KxTcp93iL"
      },
      "outputs": [],
      "source": [
        "model = NeuralNetwork(input_size, hidden_size, num_classes)\n",
        "criterion = nn.CrossEntropyLoss()\n",
        "optimizer = optim.AdamW(model.parameters(), lr=0.001)"
      ]
    },
    {
      "cell_type": "code",
      "execution_count": null,
      "metadata": {
        "id": "9QJqIqyf99nB"
      },
      "outputs": [],
      "source": [
        "X = torch.tensor(x_train.values, dtype=torch.float32)\n",
        "y = torch.tensor(y_train_xb, dtype=torch.long)"
      ]
    },
    {
      "cell_type": "code",
      "execution_count": null,
      "metadata": {
        "colab": {
          "base_uri": "https://localhost:8080/"
        },
        "id": "UpMt_Bxr-Uin",
        "outputId": "3c5fb961-3694-4195-fe20-5050cadb2253"
      },
      "outputs": [
        {
          "output_type": "stream",
          "name": "stdout",
          "text": [
            "Epoch 100/4000, Loss: 0.8940315246582031\n",
            "Epoch 200/4000, Loss: 0.4752255380153656\n",
            "Epoch 300/4000, Loss: 0.19415049254894257\n",
            "Epoch 400/4000, Loss: 0.06023161858320236\n",
            "Epoch 500/4000, Loss: 0.021909847855567932\n",
            "Epoch 600/4000, Loss: 0.011037888005375862\n",
            "Epoch 700/4000, Loss: 0.006779521703720093\n",
            "Epoch 800/4000, Loss: 0.004682830069214106\n",
            "Epoch 900/4000, Loss: 0.0032782303169369698\n",
            "Epoch 1000/4000, Loss: 0.002369030611589551\n",
            "Epoch 1100/4000, Loss: 0.0018531031673774123\n",
            "Epoch 1200/4000, Loss: 0.0015286816051229835\n",
            "Epoch 1300/4000, Loss: 0.0013089424464851618\n",
            "Epoch 1400/4000, Loss: 0.001152380253188312\n",
            "Epoch 1500/4000, Loss: 0.0010366247734054923\n",
            "Epoch 1600/4000, Loss: 0.0009484274196438491\n",
            "Epoch 1700/4000, Loss: 0.0008795608882792294\n",
            "Epoch 1800/4000, Loss: 0.0008248721715062857\n",
            "Epoch 1900/4000, Loss: 0.0007806713110767305\n",
            "Epoch 2000/4000, Loss: 0.0007444719085469842\n",
            "Epoch 2100/4000, Loss: 0.0007143874536268413\n",
            "Epoch 2200/4000, Loss: 0.0006890473305247724\n",
            "Epoch 2300/4000, Loss: 0.0006675434997305274\n",
            "Epoch 2400/4000, Loss: 0.000649186666123569\n",
            "Epoch 2500/4000, Loss: 0.0006333373603411019\n",
            "Epoch 2600/4000, Loss: 0.0006195772439241409\n",
            "Epoch 2700/4000, Loss: 0.0006075797136873007\n",
            "Epoch 2800/4000, Loss: 0.000597042148001492\n",
            "Epoch 2900/4000, Loss: 0.0005877453950233757\n",
            "Epoch 3000/4000, Loss: 0.0005795154720544815\n",
            "Epoch 3100/4000, Loss: 0.0005722045316360891\n",
            "Epoch 3200/4000, Loss: 0.0005656793364323676\n",
            "Epoch 3300/4000, Loss: 0.000559834239538759\n",
            "Epoch 3400/4000, Loss: 0.0005545872263610363\n",
            "Epoch 3500/4000, Loss: 0.0005498505779542029\n",
            "Epoch 3600/4000, Loss: 0.0005455483915284276\n",
            "Epoch 3700/4000, Loss: 0.0005416557542048395\n",
            "Epoch 3800/4000, Loss: 0.0005381155642680824\n",
            "Epoch 3900/4000, Loss: 0.0005348906852304935\n",
            "Epoch 4000/4000, Loss: 0.0005319475894793868\n"
          ]
        }
      ],
      "source": [
        "num_epochs = 4000\n",
        "for epoch in range(num_epochs):\n",
        "\n",
        "    outputs = model(X)\n",
        "    loss = criterion(outputs, y)\n",
        "\n",
        "    optimizer.zero_grad()\n",
        "    loss.backward()\n",
        "    optimizer.step()\n",
        "\n",
        "    if (epoch+1) % 100 == 0:\n",
        "        print(f'Epoch {epoch+1}/{num_epochs}, Loss: {loss.item()}')"
      ]
    },
    {
      "cell_type": "code",
      "execution_count": null,
      "metadata": {
        "colab": {
          "base_uri": "https://localhost:8080/",
          "height": 686
        },
        "id": "6XlauKtmRwYA",
        "outputId": "a0e22867-42d3-40fe-96f3-1781986ae2f6"
      },
      "outputs": [
        {
          "output_type": "stream",
          "name": "stdout",
          "text": [
            "              precision    recall  f1-score   support\n",
            "\n",
            "          A1       0.83      0.83      0.83       109\n",
            "          A2       0.72      0.74      0.73       125\n",
            "          B1       0.64      0.53      0.58       118\n",
            "          B2       0.79      0.87      0.83       122\n",
            "          C1       0.85      0.88      0.87       119\n",
            "          C2       0.99      1.00      1.00       111\n",
            "\n",
            "    accuracy                           0.81       704\n",
            "   macro avg       0.81      0.81      0.81       704\n",
            "weighted avg       0.80      0.81      0.80       704\n",
            "\n"
          ]
        },
        {
          "output_type": "display_data",
          "data": {
            "text/plain": [
              "<Figure size 640x480 with 2 Axes>"
            ],
            "image/png": "[encoded data removed]"
          },
          "metadata": {}
        }
      ],
      "source": [
        "X_test = torch.tensor(x_test.values, dtype=torch.float32)\n",
        "model.eval()\n",
        "with torch.no_grad():\n",
        "    outputs = model(X_test)\n",
        "    _, predicted = torch.max(outputs.data, 1)\n",
        "\n",
        "#target_names = ['A1', 'A2', 'B1', 'B2', 'C1']\n",
        "print(classification_report(y_test_xb, predicted, target_names=target_names))\n",
        "cm = confusion_matrix(y_test_xb, predicted, labels=[0, 1, 2, 3, 4, 5])\n",
        "disp = ConfusionMatrixDisplay(confusion_matrix=cm, display_labels=['A1', 'A2', 'B1', 'B2', 'C1', 'C2'])\n",
        "disp.plot()\n",
        "plt.show()"
      ]
    },
    {
      "cell_type": "markdown",
      "source": [
        "В нашей задаче лопустимо ошибаться на один класс вниз. Поэтому мы модифицируем метрику accuracy:"
      ],
      "metadata": {
        "id": "vstkmJgIn9Dc"
      }
    },
    {
      "cell_type": "code",
      "execution_count": null,
      "metadata": {
        "id": "ejalKxPa_Q2h"
      },
      "outputs": [],
      "source": [
        "def acceptable_accuracy(true_labels, predicted_labels):\n",
        "    tp = 0\n",
        "    wrong = 0\n",
        "    for i in range(len(predicted_labels)):\n",
        "        if predicted_labels[i] == true_labels[i] or predicted_labels[i] == true_labels[i]-1:\n",
        "            tp += 1\n",
        "        else:\n",
        "            wrong += 1\n",
        "    return tp / (tp + wrong)"
      ]
    },
    {
      "cell_type": "markdown",
      "source": [
        "Теперь обучаем нейросеть с условием новой метрики:"
      ],
      "metadata": {
        "id": "NfxrOgtUoIrc"
      }
    },
    {
      "cell_type": "code",
      "source": [
        "def softmax(x):\n",
        "    return ((torch.exp(x)/sum(torch.exp(x))))"
      ],
      "metadata": {
        "id": "OE5ZKcRm531O"
      },
      "execution_count": null,
      "outputs": []
    },
    {
      "cell_type": "code",
      "execution_count": null,
      "metadata": {
        "colab": {
          "base_uri": "https://localhost:8080/"
        },
        "id": "ZshtZUb4NL4I",
        "outputId": "954ed902-541e-4e8f-ee33-ad91e4c5bce0"
      },
      "outputs": [
        {
          "output_type": "stream",
          "name": "stdout",
          "text": [
            "Epoch 100/4000, Loss: 0.9946427345275879\n",
            "Epoch 200/4000, Loss: 0.5726786255836487\n",
            "Epoch 300/4000, Loss: 0.30295127630233765\n",
            "Epoch 400/4000, Loss: 0.16563890874385834\n",
            "Epoch 500/4000, Loss: 0.12288084626197815\n",
            "Epoch 600/4000, Loss: 0.11036514490842819\n",
            "Epoch 700/4000, Loss: 0.10513752698898315\n",
            "Epoch 800/4000, Loss: 0.10284411162137985\n",
            "Epoch 900/4000, Loss: 0.1016630157828331\n",
            "Epoch 1000/4000, Loss: 0.10093220323324203\n",
            "Epoch 1100/4000, Loss: 0.10044483095407486\n",
            "Epoch 1200/4000, Loss: 0.10008471459150314\n",
            "Epoch 1300/4000, Loss: 0.10000342130661011\n",
            "Epoch 1400/4000, Loss: 0.09981071949005127\n",
            "Epoch 1500/4000, Loss: 0.09977011382579803\n",
            "Epoch 1600/4000, Loss: 0.09969044476747513\n",
            "Epoch 1700/4000, Loss: 0.09963421523571014\n",
            "Epoch 1800/4000, Loss: 0.09959542006254196\n",
            "Epoch 1900/4000, Loss: 0.09956992417573929\n",
            "Epoch 2000/4000, Loss: 0.09955473244190216\n",
            "Epoch 2100/4000, Loss: 0.09958317130804062\n",
            "Epoch 2200/4000, Loss: 0.09954693168401718\n",
            "Epoch 2300/4000, Loss: 0.09958703815937042\n",
            "Epoch 2400/4000, Loss: 0.09959583729505539\n",
            "Epoch 2500/4000, Loss: 0.0996081680059433\n",
            "Epoch 2600/4000, Loss: 0.09958785772323608\n",
            "Epoch 2700/4000, Loss: 0.09960556030273438\n",
            "Epoch 2800/4000, Loss: 0.0995897725224495\n",
            "Epoch 2900/4000, Loss: 0.09968244284391403\n",
            "Epoch 3000/4000, Loss: 0.09974107891321182\n",
            "Epoch 3100/4000, Loss: 0.09976547211408615\n",
            "Epoch 3200/4000, Loss: 0.09982655942440033\n",
            "Epoch 3300/4000, Loss: 0.09988865256309509\n",
            "Epoch 3400/4000, Loss: 0.09998717159032822\n",
            "Epoch 3500/4000, Loss: 0.10001534968614578\n",
            "Epoch 3600/4000, Loss: 0.10007987916469574\n",
            "Epoch 3700/4000, Loss: 0.1001453846693039\n",
            "Epoch 3800/4000, Loss: 0.10017523914575577\n",
            "Epoch 3900/4000, Loss: 0.10020818561315536\n",
            "Epoch 4000/4000, Loss: 0.10023722052574158\n"
          ]
        }
      ],
      "source": [
        "num_epochs = 4000\n",
        "w = 0.1\n",
        "for epoch in range(num_epochs):\n",
        "\n",
        "    outputs = model(X)\n",
        "    outputs_labels = torch.argmax(softmax(outputs), dim = 1)\n",
        "    loss = criterion(outputs, y) + w * acceptable_accuracy(outputs_labels, y)  # модифицируем функцию потерь\n",
        "\n",
        "    optimizer.zero_grad()\n",
        "    loss.backward()\n",
        "    optimizer.step()\n",
        "\n",
        "    if (epoch+1) % 100 == 0:\n",
        "        print(f'Epoch {epoch+1}/{num_epochs}, Loss: {loss.item()}')"
      ]
    },
    {
      "cell_type": "code",
      "source": [
        "X_test = torch.tensor(x_test.values, dtype=torch.float32)\n",
        "model.eval()\n",
        "with torch.no_grad():\n",
        "    outputs = model(X_test)\n",
        "    _, predicted_new = torch.max(outputs.data, 1)\n",
        "\n",
        "#target_names = ['A1', 'A2', 'B1', 'B2', 'C1']\n",
        "print(classification_report(y_test_xb, predicted_new, target_names=target_names))\n",
        "cm = confusion_matrix(y_test_xb, predicted_new, labels=[0, 1, 2, 3, 4, 5])\n",
        "disp = ConfusionMatrixDisplay(confusion_matrix=cm, display_labels=['A1', 'A2', 'B1', 'B2', 'C1', 'C2'])\n",
        "disp.plot()\n",
        "plt.show()"
      ],
      "metadata": {
        "colab": {
          "base_uri": "https://localhost:8080/",
          "height": 686
        },
        "id": "czlUVfTkCAo7",
        "outputId": "416f2d77-ed02-40b7-b615-7da2cab202e5"
      },
      "execution_count": null,
      "outputs": [
        {
          "output_type": "stream",
          "name": "stdout",
          "text": [
            "              precision    recall  f1-score   support\n",
            "\n",
            "          A1       0.83      0.83      0.83       109\n",
            "          A2       0.73      0.75      0.74       125\n",
            "          B1       0.68      0.53      0.60       118\n",
            "          B2       0.77      0.88      0.82       122\n",
            "          C1       0.86      0.88      0.87       119\n",
            "          C2       0.99      1.00      1.00       111\n",
            "\n",
            "    accuracy                           0.81       704\n",
            "   macro avg       0.81      0.81      0.81       704\n",
            "weighted avg       0.81      0.81      0.81       704\n",
            "\n"
          ]
        },
        {
          "output_type": "display_data",
          "data": {
            "text/plain": [
              "<Figure size 640x480 with 2 Axes>"
            ],
            "image/png": "[encoded data removed]"
          },
          "metadata": {}
        }
      ]
    },
    {
      "cell_type": "markdown",
      "source": [
        "# Выводим качество с новой метрикой:"
      ],
      "metadata": {
        "id": "i_6VWRTgtQ_j"
      }
    },
    {
      "cell_type": "code",
      "source": [
        "f'NeuralNetwork {acceptable_accuracy(y_test_xb, predicted_new)}'"
      ],
      "metadata": {
        "colab": {
          "base_uri": "https://localhost:8080/",
          "height": 36
        },
        "id": "ERrAQtPEB5BE",
        "outputId": "c8ebd99a-b85c-42c7-b11e-3b34385044cb"
      },
      "execution_count": null,
      "outputs": [
        {
          "output_type": "execute_result",
          "data": {
            "text/plain": [
              "'NeuralNetwork + acc 0.8707386363636364'"
            ],
            "application/vnd.google.colaboratory.intrinsic+json": {
              "type": "string"
            }
          },
          "metadata": {},
          "execution_count": 48
        }
      ]
    },
    {
      "cell_type": "code",
      "execution_count": null,
      "metadata": {
        "colab": {
          "base_uri": "https://localhost:8080/",
          "height": 36
        },
        "id": "8fvbZ73PB0Ae",
        "outputId": "bf90af33-1c05-4d16-f769-13b1f00e18ea"
      },
      "outputs": [
        {
          "output_type": "execute_result",
          "data": {
            "text/plain": [
              "'XGBClassifier 0.8664772727272727'"
            ],
            "application/vnd.google.colaboratory.intrinsic+json": {
              "type": "string"
            }
          },
          "metadata": {},
          "execution_count": 49
        }
      ],
      "source": [
        "f'XGBClassifier {acceptable_accuracy(y_test_xb, y_pred_xb)}'"
      ]
    },
    {
      "cell_type": "code",
      "execution_count": null,
      "metadata": {
        "colab": {
          "base_uri": "https://localhost:8080/",
          "height": 36
        },
        "id": "1Tzl1YK4B2bj",
        "outputId": "342ed496-3413-49f9-e8c2-d931d2c5f280"
      },
      "outputs": [
        {
          "output_type": "execute_result",
          "data": {
            "text/plain": [
              "'CatBoostClassifier 0.8636363636363636'"
            ],
            "application/vnd.google.colaboratory.intrinsic+json": {
              "type": "string"
            }
          },
          "metadata": {},
          "execution_count": 50
        }
      ],
      "source": [
        "f'CatBoostClassifier {acceptable_accuracy(np.array(y_test), y_pred_cb)}'"
      ]
    },
    {
      "cell_type": "code",
      "execution_count": null,
      "metadata": {
        "colab": {
          "base_uri": "https://localhost:8080/",
          "height": 36
        },
        "id": "iwxmQlJFB3q4",
        "outputId": "bd3d8205-b191-401b-9010-e5e73fb39a6c"
      },
      "outputs": [
        {
          "output_type": "execute_result",
          "data": {
            "text/plain": [
              "'KNeighborsClassifier 0.8366477272727273'"
            ],
            "application/vnd.google.colaboratory.intrinsic+json": {
              "type": "string"
            }
          },
          "metadata": {},
          "execution_count": 51
        }
      ],
      "source": [
        "f'KNeighborsClassifier {acceptable_accuracy(np.array(y_test), y_pred_knn)}'"
      ]
    },
    {
      "cell_type": "code",
      "execution_count": null,
      "metadata": {
        "colab": {
          "base_uri": "https://localhost:8080/",
          "height": 36
        },
        "id": "jYIQnoN1B3QS",
        "outputId": "000c1aba-2bb7-4d22-8bef-94e4d513846f"
      },
      "outputs": [
        {
          "output_type": "execute_result",
          "data": {
            "text/plain": [
              "'LogisticRegression 0.7940340909090909'"
            ],
            "application/vnd.google.colaboratory.intrinsic+json": {
              "type": "string"
            }
          },
          "metadata": {},
          "execution_count": 52
        }
      ],
      "source": [
        "f'LogisticRegression {acceptable_accuracy(np.array(y_test), y_pred_lg)}'"
      ]
    },
    {
      "cell_type": "code",
      "execution_count": null,
      "metadata": {
        "colab": {
          "base_uri": "https://localhost:8080/",
          "height": 36
        },
        "id": "Mub1p7O9B24E",
        "outputId": "8be8011a-2068-455b-e65b-64194615bdfd"
      },
      "outputs": [
        {
          "output_type": "execute_result",
          "data": {
            "text/plain": [
              "'RandomForestClassifier 0.8380681818181818'"
            ],
            "application/vnd.google.colaboratory.intrinsic+json": {
              "type": "string"
            }
          },
          "metadata": {},
          "execution_count": 53
        }
      ],
      "source": [
        "f'RandomForestClassifier {acceptable_accuracy(np.array(y_test), y_pred_rf)}'"
      ]
    },
    {
      "cell_type": "code",
      "source": [
        "f'DecisionTreeClassifier {acceptable_accuracy(np.array(y_test), y_pred_dt)}'"
      ],
      "metadata": {
        "colab": {
          "base_uri": "https://localhost:8080/",
          "height": 36
        },
        "id": "mFOByeUfY2VA",
        "outputId": "83b0f0d3-6d1f-4641-8e70-ce8db64c0d23"
      },
      "execution_count": null,
      "outputs": [
        {
          "output_type": "execute_result",
          "data": {
            "text/plain": [
              "'DecisionTreeClassifier 0.6633522727272727'"
            ],
            "application/vnd.google.colaboratory.intrinsic+json": {
              "type": "string"
            }
          },
          "metadata": {},
          "execution_count": 13
        }
      ]
    }
  ],
  "metadata": {
    "colab": {
      "provenance": []
    },
    "kernelspec": {
      "display_name": "Python 3",
      "name": "python3"
    },
    "language_info": {
      "name": "python"
    }
  },
  "nbformat": 4,
  "nbformat_minor": 0
}